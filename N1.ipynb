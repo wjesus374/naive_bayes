{
 "cells": [
  {
   "cell_type": "code",
   "execution_count": 1,
   "metadata": {},
   "outputs": [],
   "source": [
    "import pandas as pd\n",
    "import numpy as np\n",
    "from sklearn.naive_bayes import GaussianNB\n",
    "from sklearn import preprocessing"
   ]
  },
  {
   "cell_type": "code",
   "execution_count": 2,
   "metadata": {},
   "outputs": [],
   "source": [
    "xlsx = pd.ExcelFile('base.xlsx')\n",
    "base = pd.read_excel(xlsx, 'Base')"
   ]
  },
  {
   "cell_type": "code",
   "execution_count": 3,
   "metadata": {},
   "outputs": [
    {
     "data": {
      "text/html": [
       "<div>\n",
       "<style scoped>\n",
       "    .dataframe tbody tr th:only-of-type {\n",
       "        vertical-align: middle;\n",
       "    }\n",
       "\n",
       "    .dataframe tbody tr th {\n",
       "        vertical-align: top;\n",
       "    }\n",
       "\n",
       "    .dataframe thead th {\n",
       "        text-align: right;\n",
       "    }\n",
       "</style>\n",
       "<table border=\"1\" class=\"dataframe\">\n",
       "  <thead>\n",
       "    <tr style=\"text-align: right;\">\n",
       "      <th></th>\n",
       "      <th>PREVISAO</th>\n",
       "      <th>TEMPERATURA</th>\n",
       "      <th>UMIDADE</th>\n",
       "      <th>VENTO</th>\n",
       "      <th>VENDER</th>\n",
       "    </tr>\n",
       "  </thead>\n",
       "  <tbody>\n",
       "    <tr>\n",
       "      <th>0</th>\n",
       "      <td>chuva</td>\n",
       "      <td>frio</td>\n",
       "      <td>normal</td>\n",
       "      <td>sim</td>\n",
       "      <td>parmegiana</td>\n",
       "    </tr>\n",
       "    <tr>\n",
       "      <th>1</th>\n",
       "      <td>chuva</td>\n",
       "      <td>moderado</td>\n",
       "      <td>alta</td>\n",
       "      <td>sim</td>\n",
       "      <td>parmegiana</td>\n",
       "    </tr>\n",
       "    <tr>\n",
       "      <th>2</th>\n",
       "      <td>sol</td>\n",
       "      <td>quente</td>\n",
       "      <td>alta</td>\n",
       "      <td>nao</td>\n",
       "      <td>parmegiana</td>\n",
       "    </tr>\n",
       "    <tr>\n",
       "      <th>3</th>\n",
       "      <td>sol</td>\n",
       "      <td>quente</td>\n",
       "      <td>alta</td>\n",
       "      <td>sim</td>\n",
       "      <td>parmegiana</td>\n",
       "    </tr>\n",
       "    <tr>\n",
       "      <th>4</th>\n",
       "      <td>sol</td>\n",
       "      <td>moderado</td>\n",
       "      <td>alta</td>\n",
       "      <td>nao</td>\n",
       "      <td>parmegiana</td>\n",
       "    </tr>\n",
       "    <tr>\n",
       "      <th>5</th>\n",
       "      <td>nublado</td>\n",
       "      <td>frio</td>\n",
       "      <td>normal</td>\n",
       "      <td>sim</td>\n",
       "      <td>feijoada</td>\n",
       "    </tr>\n",
       "    <tr>\n",
       "      <th>6</th>\n",
       "      <td>nublado</td>\n",
       "      <td>quente</td>\n",
       "      <td>alta</td>\n",
       "      <td>nao</td>\n",
       "      <td>feijoada</td>\n",
       "    </tr>\n",
       "    <tr>\n",
       "      <th>7</th>\n",
       "      <td>nublado</td>\n",
       "      <td>quente</td>\n",
       "      <td>normal</td>\n",
       "      <td>nao</td>\n",
       "      <td>feijoada</td>\n",
       "    </tr>\n",
       "    <tr>\n",
       "      <th>8</th>\n",
       "      <td>nublado</td>\n",
       "      <td>moderado</td>\n",
       "      <td>alta</td>\n",
       "      <td>sim</td>\n",
       "      <td>feijoada</td>\n",
       "    </tr>\n",
       "    <tr>\n",
       "      <th>9</th>\n",
       "      <td>chuva</td>\n",
       "      <td>frio</td>\n",
       "      <td>normal</td>\n",
       "      <td>nao</td>\n",
       "      <td>feijoada</td>\n",
       "    </tr>\n",
       "    <tr>\n",
       "      <th>10</th>\n",
       "      <td>chuva</td>\n",
       "      <td>moderado</td>\n",
       "      <td>alta</td>\n",
       "      <td>nao</td>\n",
       "      <td>feijoada</td>\n",
       "    </tr>\n",
       "    <tr>\n",
       "      <th>11</th>\n",
       "      <td>chuva</td>\n",
       "      <td>moderado</td>\n",
       "      <td>normal</td>\n",
       "      <td>nao</td>\n",
       "      <td>feijoada</td>\n",
       "    </tr>\n",
       "    <tr>\n",
       "      <th>12</th>\n",
       "      <td>sol</td>\n",
       "      <td>frio</td>\n",
       "      <td>normal</td>\n",
       "      <td>nao</td>\n",
       "      <td>feijoada</td>\n",
       "    </tr>\n",
       "    <tr>\n",
       "      <th>13</th>\n",
       "      <td>sol</td>\n",
       "      <td>moderado</td>\n",
       "      <td>normal</td>\n",
       "      <td>sim</td>\n",
       "      <td>feijoada</td>\n",
       "    </tr>\n",
       "  </tbody>\n",
       "</table>\n",
       "</div>"
      ],
      "text/plain": [
       "   PREVISAO TEMPERATURA UMIDADE VENTO      VENDER\n",
       "0     chuva        frio  normal   sim  parmegiana\n",
       "1     chuva    moderado    alta   sim  parmegiana\n",
       "2       sol      quente    alta   nao  parmegiana\n",
       "3       sol      quente    alta   sim  parmegiana\n",
       "4       sol    moderado    alta   nao  parmegiana\n",
       "5   nublado        frio  normal   sim    feijoada\n",
       "6   nublado      quente    alta   nao    feijoada\n",
       "7   nublado      quente  normal   nao    feijoada\n",
       "8   nublado    moderado    alta   sim    feijoada\n",
       "9     chuva        frio  normal   nao    feijoada\n",
       "10    chuva    moderado    alta   nao    feijoada\n",
       "11    chuva    moderado  normal   nao    feijoada\n",
       "12      sol        frio  normal   nao    feijoada\n",
       "13      sol    moderado  normal   sim    feijoada"
      ]
     },
     "execution_count": 3,
     "metadata": {},
     "output_type": "execute_result"
    }
   ],
   "source": [
    "base.head(15)"
   ]
  },
  {
   "cell_type": "code",
   "execution_count": 4,
   "metadata": {},
   "outputs": [],
   "source": [
    "import matplotlib.pyplot as plt\n",
    "%matplotlib inline"
   ]
  },
  {
   "cell_type": "code",
   "execution_count": 5,
   "metadata": {},
   "outputs": [
    {
     "data": {
      "image/png": "[encoded data removed]",
      "text/plain": [
       "<Figure size 1296x1080 with 5 Axes>"
      ]
     },
     "metadata": {
      "needs_background": "light"
     },
     "output_type": "display_data"
    }
   ],
   "source": [
    "columns=base.columns[:8]\n",
    "plt.subplots(figsize=(18,15))\n",
    "length=len(columns)\n",
    "\n",
    "for i,j in zip(columns,range(length)):\n",
    "    plt.subplot((length/2),5,j+1)\n",
    "    plt.subplots_adjust(wspace=0.2, hspace=0.5)\n",
    "    base[i].hist(bins=5,edgecolor='black')\n",
    "    plt.title(i)\n",
    "plt.show()"
   ]
  },
  {
   "cell_type": "code",
   "execution_count": 6,
   "metadata": {},
   "outputs": [
    {
     "name": "stdout",
     "output_type": "stream",
     "text": [
      "{'PREVISAO': {'chuva': 0, 'sol': 2, 'nublado': 1}, 'TEMPERATURA': {'frio': 0, 'moderado': 1, 'quente': 2}, 'UMIDADE': {'normal': 1, 'alta': 0}, 'VENTO': {'sim': 1, 'nao': 0}, 'VENDER': {'parmegiana': 1, 'feijoada': 0}}\n"
     ]
    }
   ],
   "source": [
    "column_data = {}\n",
    "\n",
    "for column in base.columns:\n",
    "    column_data[column] = base[column].tolist()\n",
    "\n",
    "le = preprocessing.LabelEncoder()\n",
    "encoded_base = {}\n",
    "encoded_map = {}\n",
    "for column in column_data:\n",
    "    encoded_base[column] = le.fit_transform(column_data[column])\n",
    "    encoded_map[column] = {}\n",
    "    for value in zip(column_data[column],le.fit_transform(column_data[column])):\n",
    "        encoded_map[column].update({value[0]:value[1]})\n",
    "\n",
    "print(encoded_map)"
   ]
  },
  {
   "cell_type": "code",
   "execution_count": 7,
   "metadata": {},
   "outputs": [],
   "source": [
    "data = ['PREVISAO','TEMPERATURA','UMIDADE','VENTO']\n",
    "target = 'VENDER'\n",
    "\n",
    "recursos = []\n",
    "\n",
    "for recurso in encoded_base:\n",
    "    if recurso in data:\n",
    "        recursos.append(encoded_base[recurso])\n",
    "        \n",
    "recursos = list(zip(*recursos))"
   ]
  },
  {
   "cell_type": "code",
   "execution_count": 8,
   "metadata": {},
   "outputs": [
    {
     "data": {
      "text/plain": [
       "GaussianNB(priors=None, var_smoothing=1e-09)"
      ]
     },
     "execution_count": 8,
     "metadata": {},
     "output_type": "execute_result"
    }
   ],
   "source": [
    "modelo = GaussianNB()\n",
    "modelo.fit(recursos,encoded_base[target])"
   ]
  },
  {
   "cell_type": "code",
   "execution_count": 9,
   "metadata": {},
   "outputs": [
    {
     "name": "stdout",
     "output_type": "stream",
     "text": [
      "{'PREVISAO': {'chuva': 0, 'sol': 2, 'nublado': 1}, 'TEMPERATURA': {'frio': 0, 'moderado': 1, 'quente': 2}, 'UMIDADE': {'normal': 1, 'alta': 0}, 'VENTO': {'sim': 1, 'nao': 0}, 'VENDER': {'parmegiana': 1, 'feijoada': 0}}\n",
      "[2, 0, 1, 1]\n",
      "Previsão: Feijoada\n"
     ]
    }
   ],
   "source": [
    "print(encoded_map)\n",
    "\n",
    "p_list = [\n",
    "    encoded_map['PREVISAO']['sol'],\n",
    "    encoded_map['TEMPERATURA']['frio'],\n",
    "    encoded_map['UMIDADE']['normal'],\n",
    "    encoded_map['VENTO']['sim']\n",
    "]\n",
    "print(p_list)\n",
    "previsao= modelo.predict([p_list])\n",
    "#print(\"Previsão: {}\".format(previsao))\n",
    "inv_map = {v: k for k, v in encoded_map[target].items()}\n",
    "print(\"Previsão: {}\".format(inv_map[int(previsao)].capitalize()))"
   ]
  },
  {
   "cell_type": "code",
   "execution_count": null,
   "metadata": {},
   "outputs": [],
   "source": []
  }
 ],
 "metadata": {
  "kernelspec": {
   "display_name": "Python 3",
   "language": "python",
   "name": "python3"
  },
  "language_info": {
   "codemirror_mode": {
    "name": "ipython",
    "version": 3
   },
   "file_extension": ".py",
   "mimetype": "text/x-python",
   "name": "python",
   "nbconvert_exporter": "python",
   "pygments_lexer": "ipython3",
   "version": "3.6.9"
  }
 },
 "nbformat": 4,
 "nbformat_minor": 4
}
