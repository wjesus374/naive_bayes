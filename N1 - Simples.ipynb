{
 "cells": [
  {
   "cell_type": "code",
   "execution_count": 1,
   "metadata": {},
   "outputs": [
    {
     "name": "stdout",
     "output_type": "stream",
     "text": [
      "[(0, 0, 1, 1), (0, 1, 0, 1), (2, 2, 0, 0), (2, 2, 0, 1), (2, 1, 0, 0), (1, 0, 1, 1), (1, 2, 0, 0), (1, 2, 1, 0), (1, 1, 0, 1), (0, 0, 1, 0), (0, 1, 0, 0), (0, 1, 1, 0), (2, 0, 1, 0), (2, 1, 1, 1)]\n",
      "Previsão: [0]\n"
     ]
    }
   ],
   "source": [
    "import pandas as pd\n",
    "import numpy as np\n",
    "from sklearn.naive_bayes import GaussianNB\n",
    "from sklearn import preprocessing\n",
    "\n",
    "#Referência\n",
    "#https://www.datacamp.com/community/tutorials/naive-bayes-scikit-learn\n",
    "\n",
    "xlsx = pd.ExcelFile('base.xlsx')\n",
    "base = pd.read_excel(xlsx, 'Base')\n",
    "\n",
    "\n",
    "previsao_list = base['PREVISAO'].tolist()\n",
    "temperatura_list = base['TEMPERATURA'].tolist()\n",
    "umidade_list = base['UMIDADE'].tolist()\n",
    "vento_list = base['VENTO'].tolist()\n",
    "vender_list = base['VENDER'].tolist()\n",
    "\n",
    "\n",
    "le = preprocessing.LabelEncoder()\n",
    "\n",
    "previsao_encoded=le.fit_transform(previsao_list)\n",
    "temperatura_encoded=le.fit_transform(temperatura_list)\n",
    "umidade_encoded=le.fit_transform(umidade_list)\n",
    "vento_encoded=le.fit_transform(vento_list)\n",
    "vender_encoded=le.fit_transform(vender_list)\n",
    "\n",
    "\n",
    "recursos=list(zip(previsao_encoded, temperatura_encoded, umidade_encoded, vento_encoded))\n",
    "print(recursos)\n",
    "\n",
    "modelo = GaussianNB()\n",
    "modelo.fit(recursos,vender_encoded)\n",
    "previsao= modelo.predict([[2,0,1,1]])\n",
    "print(\"Previsão: {}\".format(previsao))"
   ]
  },
  {
   "cell_type": "code",
   "execution_count": null,
   "metadata": {},
   "outputs": [],
   "source": []
  }
 ],
 "metadata": {
  "kernelspec": {
   "display_name": "Python 3",
   "language": "python",
   "name": "python3"
  },
  "language_info": {
   "codemirror_mode": {
    "name": "ipython",
    "version": 3
   },
   "file_extension": ".py",
   "mimetype": "text/x-python",
   "name": "python",
   "nbconvert_exporter": "python",
   "pygments_lexer": "ipython3",
   "version": "3.6.9"
  }
 },
 "nbformat": 4,
 "nbformat_minor": 4
}
